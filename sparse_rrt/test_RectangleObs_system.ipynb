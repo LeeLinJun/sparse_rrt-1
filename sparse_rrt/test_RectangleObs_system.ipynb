{
 "cells": [
  {
   "cell_type": "code",
   "execution_count": 15,
   "metadata": {
    "collapsed": true
   },
   "outputs": [],
   "source": [
    "import sys\n",
    "sys.path.append('/media/arclabdl1/HD1/Linjun/mpc-mpnet-py/deps/sparse_rrt-1')\n",
    "from sparse_rrt import _sst_module\n",
    "\n",
    "from sparse_rrt.systems import standard_cpp_systems\n",
    "import numpy as np\n",
    "import time\n"
   ]
  },
  {
   "cell_type": "code",
   "execution_count": 24,
   "metadata": {
    "collapsed": false
   },
   "outputs": [],
   "source": [
    "sys.path.append('/media/arclabdl1/HD1/Linjun/mpc-mpnet-py/')\n",
    "from mpnet.sst_envs.utils import load_data, get_obs\n",
    "system = \"cartpole_obs\"\n",
    "env_id = 0\n",
    "traj_id = 0\n",
    "\n",
    "obs_list = get_obs(system, env_id)[env_id].reshape(-1, 2)\n",
    "\n",
    "\n",
    "data = load_data(system, env_id, traj_id)\n",
    "path = data['path']\n",
    "u = data['control']\n",
    "t = data['cost']"
   ]
  },
  {
   "cell_type": "code",
   "execution_count": 25,
   "metadata": {
    "collapsed": false
   },
   "outputs": [],
   "source": [
    "system = standard_cpp_systems.CartPoleObs(obs_list, 4)"
   ]
  },
  {
   "cell_type": "code",
   "execution_count": null,
   "metadata": {
    "collapsed": true
   },
   "outputs": [],
   "source": [
    "result = path[0].copy()\n",
    "system.propagate(path[0].copy(), 4, u[0], 1, )"
   ]
  }
 ],
 "metadata": {
  "anaconda-cloud": {},
  "kernelspec": {
   "display_name": "linjun",
   "language": "python",
   "name": "linjun"
  },
  "language_info": {
   "codemirror_mode": {
    "name": "ipython",
    "version": 3
   },
   "file_extension": ".py",
   "mimetype": "text/x-python",
   "name": "python",
   "nbconvert_exporter": "python",
   "pygments_lexer": "ipython3",
   "version": "3.8.2"
  }
 },
 "nbformat": 4,
 "nbformat_minor": 1
}
