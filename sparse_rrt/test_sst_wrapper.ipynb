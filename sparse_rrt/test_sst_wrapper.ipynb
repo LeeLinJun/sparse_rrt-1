{
 "cells": [
  {
   "cell_type": "code",
   "execution_count": 4,
   "metadata": {},
   "outputs": [],
   "source": [
    "import sys\n",
    "sys.path.append('/media/arclabdl1/HD1/Linjun/mpc-mpnet-py/deps/sparse_rrt-1')\n",
    "from sparse_rrt import _sst_module\n",
    "from sparse_rrt.systems import standard_cpp_systems\n",
    "\n",
    "import numpy as np\n",
    "import time"
   ]
  },
  {
   "cell_type": "code",
   "execution_count": 2,
   "metadata": {},
   "outputs": [
    {
     "ename": "NameError",
     "evalue": "name 'standard_cpp_systems' is not defined",
     "output_type": "error",
     "traceback": [
      "\u001b[0;31m---------------------------------------------------------------------------\u001b[0m",
      "\u001b[0;31mNameError\u001b[0m                                 Traceback (most recent call last)",
      "\u001b[0;32m<ipython-input-2-cfbd616eed6f>\u001b[0m in \u001b[0;36m<module>\u001b[0;34m\u001b[0m\n\u001b[1;32m     52\u001b[0m     \u001b[0;32mreturn\u001b[0m \u001b[0mplanner\u001b[0m\u001b[0;34m\u001b[0m\u001b[0;34m\u001b[0m\u001b[0m\n\u001b[1;32m     53\u001b[0m \u001b[0;34m\u001b[0m\u001b[0m\n\u001b[0;32m---> 54\u001b[0;31m \u001b[0mp\u001b[0m \u001b[0;34m=\u001b[0m \u001b[0mtest_sst_acrobot\u001b[0m\u001b[0;34m(\u001b[0m\u001b[0;36m1\u001b[0m\u001b[0;34m,\u001b[0m \u001b[0;36m100\u001b[0m\u001b[0;34m,\u001b[0m \u001b[0;36m2e-2\u001b[0m\u001b[0;34m,\u001b[0m \u001b[0;36m2000\u001b[0m\u001b[0;34m)\u001b[0m\u001b[0;34m\u001b[0m\u001b[0;34m\u001b[0m\u001b[0m\n\u001b[0m",
      "\u001b[0;32m<ipython-input-2-cfbd616eed6f>\u001b[0m in \u001b[0;36mtest_sst_acrobot\u001b[0;34m(min_time_steps, max_time_steps, integration_step, number_of_iterations)\u001b[0m\n\u001b[1;32m     22\u001b[0m     \u001b[0mTest\u001b[0m \u001b[0mthat\u001b[0m \u001b[0mruns\u001b[0m \u001b[0mare\u001b[0m \u001b[0mdeterministic\u001b[0m\u001b[0;34m\u001b[0m\u001b[0;34m\u001b[0m\u001b[0m\n\u001b[1;32m     23\u001b[0m     '''\n\u001b[0;32m---> 24\u001b[0;31m     \u001b[0msystem\u001b[0m \u001b[0;34m=\u001b[0m \u001b[0mstandard_cpp_systems\u001b[0m\u001b[0;34m.\u001b[0m\u001b[0mTwoLinkAcrobot\u001b[0m\u001b[0;34m(\u001b[0m\u001b[0;34m)\u001b[0m\u001b[0;34m\u001b[0m\u001b[0;34m\u001b[0m\u001b[0m\n\u001b[0m\u001b[1;32m     25\u001b[0m \u001b[0;34m\u001b[0m\u001b[0m\n\u001b[1;32m     26\u001b[0m     \u001b[0;32mdef\u001b[0m \u001b[0m_create_planner\u001b[0m\u001b[0;34m(\u001b[0m\u001b[0msystem\u001b[0m\u001b[0;34m)\u001b[0m\u001b[0;34m:\u001b[0m\u001b[0;34m\u001b[0m\u001b[0;34m\u001b[0m\u001b[0m\n",
      "\u001b[0;31mNameError\u001b[0m: name 'standard_cpp_systems' is not defined"
     ]
    }
   ],
   "source": [
    "# from sparse_rrt.experiments.experiment_utils import run_config\n",
    "# point_config = dict(\n",
    "#     system='point',\n",
    "#     planner='sst_backend',\n",
    "#     start_state=[9., 9.],\n",
    "#     goal_state=[-9., 9.],\n",
    "#     goal_radius=0.5,\n",
    "#     random_seed=100,\n",
    "#     integration_step=0.02,\n",
    "#     min_time_steps=2,\n",
    "#     max_time_steps=20,\n",
    "#     number_of_iterations=300000,\n",
    "#     display_type=None,\n",
    "#     sst_delta_near=0.2,\n",
    "#     sst_delta_drain=0.2\n",
    "# )\n",
    "# run_config(point_config)\n",
    "\n",
    "\n",
    "def test_sst_acrobot(min_time_steps, max_time_steps, integration_step, number_of_iterations):\n",
    "    '''\n",
    "    Test that runs are deterministic\n",
    "    '''\n",
    "    system = standard_cpp_systems.TwoLinkAcrobot()\n",
    "\n",
    "    def _create_planner(system):\n",
    "        return _sst_module.SSTBackendWrapper(\n",
    "            state_bounds=system.get_state_bounds(),\n",
    "            control_bounds=system.get_control_bounds(),\n",
    "            distance=system.distance_computer(),\n",
    "            start_state=np.array([0., 0., 0, 0,]),\n",
    "            goal_state=np.array([3, 0, 0, 0]),\n",
    "            goal_radius=10,\n",
    "            random_seed=0,\n",
    "            sst_delta_near=0.2,\n",
    "            sst_delta_drain=0.2\n",
    "        )\n",
    "    planner = _create_planner(system)\n",
    "    start_time = time.time()\n",
    "\n",
    "    for iteration in range(number_of_iterations):\n",
    "        planner.step(system, min_time_steps, max_time_steps, integration_step)\n",
    "        solution = planner.get_solution()\n",
    "        if iteration % 1000 == 0:\n",
    "            if solution is None:\n",
    "                solution_cost = None\n",
    "            else:\n",
    "                solution_cost = np.sum(solution[2])\n",
    "\n",
    "            print(\"Time: %.2fs, Iterations: %d, Nodes: %d, Solution Quality: %s\" %\n",
    "                  (time.time() - start_time, iteration, planner.get_number_of_nodes(), solution_cost))\n",
    "    return planner\n",
    "\n",
    "p = test_sst_acrobot(1, 100, 2e-2, 2000)"
   ]
  },
  {
   "cell_type": "code",
   "execution_count": 3,
   "metadata": {},
   "outputs": [
    {
     "data": {
      "text/plain": [
       "array([0., 0., 0., 0.])"
      ]
     },
     "execution_count": 3,
     "metadata": {},
     "output_type": "execute_result"
    }
   ],
   "source": [
    "p.nearest_vertex(np.array([0, 0, 0, 0]))"
   ]
  },
  {
   "cell_type": "code",
   "execution_count": 4,
   "metadata": {},
   "outputs": [],
   "source": [
    "p.add_to_tree(np.array([3, 0, 0, 0]), 6.2)"
   ]
  },
  {
   "cell_type": "code",
   "execution_count": 5,
   "metadata": {},
   "outputs": [
    {
     "data": {
      "text/plain": [
       "(array([[0., 0., 0., 0.],\n",
       "        [3., 0., 0., 0.]]),\n",
       " array([[4.68628294e-310]]),\n",
       " array([6.2]))"
      ]
     },
     "execution_count": 5,
     "metadata": {},
     "output_type": "execute_result"
    }
   ],
   "source": [
    "p.get_solution()"
   ]
  },
  {
   "cell_type": "code",
   "execution_count": 6,
   "metadata": {},
   "outputs": [],
   "source": [
    "import sys\n",
    "sys.path.append('/media/arclabdl1/HD1/Linjun/mpc-mpnet-py/deps/sparse_rrt-1')\n",
    "from sparse_rrt import _sst_module\n",
    "from sparse_rrt.systems import standard_cpp_systems\n",
    "\n",
    "import pickle\n",
    "from mpnet.sst_envs.utils import load_data\n",
    "\n",
    "\n",
    "model = \"acrobot_obs\"\n",
    "env_id = 1\n",
    "traj_id = 10\n",
    "filepath = \"/media/arclabdl1/HD1/Linjun/data/kinodynamic/{model}/{filetype}_{env_id}.pkl\".format(model=model, env_id=env_id, filetype=\"obs\")\n",
    "\n",
    "data = load_data(model, env_id, traj_id)\n",
    "path = data['path']\n",
    "obs_list = pickle.load(open(filepath, \"rb\")).reshape(-1, 2)\n",
    "width = 6\n",
    "\n",
    "env_vox = np.load(\"mpnet/sst_envs/acrobot_obs_env_vox.npy\")\n",
    "obc = env_vox[env_id,0]\n",
    "p = _sst_module.DSSTMPCWrapper(\n",
    "            start_state=np.array(path[0]),\n",
    "            goal_state=np.array(path[-1]),\n",
    "            goal_radius=2,\n",
    "            random_seed=0,\n",
    "            sst_delta_near=0.2,\n",
    "            sst_delta_drain=0.2,\n",
    "            obs_list=obs_list,\n",
    "            width=width,\n",
    "            verbose=True\n",
    "        )"
   ]
  },
  {
   "cell_type": "code",
   "execution_count": null,
   "metadata": {},
   "outputs": [],
   "source": [
    "p.step(1, 10, 2e-2)"
   ]
  },
  {
   "cell_type": "code",
   "execution_count": 8,
   "metadata": {},
   "outputs": [],
   "source": [
    "def test_dsst_acrobot(min_time_steps, max_time_steps, integration_step, number_of_iterations):\n",
    "    '''\n",
    "    Test that runs are deterministic\n",
    "    '''\n",
    "#     system = standard_cpp_systems.TwoLinkAcrobot()\n",
    "\n",
    "    def _create_planner():\n",
    "        return _sst_module.DSSTMPCWrapper(\n",
    "            start_state=np.array(path[0]),\n",
    "            goal_state=np.array(path[-1]),\n",
    "            goal_radius=2,\n",
    "            random_seed=0,\n",
    "            sst_delta_near=0.2,\n",
    "            sst_delta_drain=0.2,\n",
    "            obs_list=obs_list,\n",
    "            width=width,\n",
    "            verbose=True\n",
    "        )\n",
    "    planner = _create_planner()\n",
    "    return planner\n",
    "    start_time = time.time()\n",
    "\n",
    "    for iteration in range(number_of_iterations):\n",
    "        planner.step(min_time_steps, max_time_steps, integration_step)\n",
    "#         planner.neural_step(obc.reshape(-1))\n",
    "        solution = planner.get_solution()\n",
    "        if iteration % 1000 == 0:\n",
    "            if solution is None:\n",
    "                solution_cost = None\n",
    "            else:\n",
    "                solution_cost = np.sum(solution[2])\n",
    "\n",
    "            print(\"Time: %.2fs, Iterations: %d, Nodes: %d, Solution Quality: %s\" %\n",
    "                  (time.time() - start_time, iteration, planner.get_number_of_nodes(), solution_cost))\n",
    "    return planner\n",
    "\n",
    "p = test_dsst_acrobot(1, 100, 2e-2, 100000)"
   ]
  },
  {
   "cell_type": "code",
   "execution_count": 9,
   "metadata": {},
   "outputs": [],
   "source": [
    "p.get_solution()"
   ]
  },
  {
   "cell_type": "code",
   "execution_count": 10,
   "metadata": {},
   "outputs": [
    {
     "data": {
      "text/plain": [
       "4.78"
      ]
     },
     "execution_count": 10,
     "metadata": {},
     "output_type": "execute_result"
    }
   ],
   "source": [
    "np.sum(data['cost'])"
   ]
  },
  {
   "cell_type": "code",
   "execution_count": 11,
   "metadata": {},
   "outputs": [
    {
     "data": {
      "text/plain": [
       "array([[ 0.        ,  0.        ,  0.        ,  0.        ],\n",
       "       [ 0.24618453, -0.5358435 ,  1.08646313, -2.47822479],\n",
       "       [ 0.40320096, -0.92563333,  0.55125302, -1.6938076 ],\n",
       "       [-0.44048159,  2.43457069,  2.77709511, -0.25851318],\n",
       "       [-0.08082761,  2.34253993,  3.19968799, -1.41360991],\n",
       "       [ 0.29280925,  2.15194762,  2.89925181, -1.74592252],\n",
       "       [-1.00135378, -2.4274398 , -2.32588713,  3.06098477],\n",
       "       [ 1.98763322,  1.0434565 , -0.18161975, -1.57335805]])"
      ]
     },
     "execution_count": 11,
     "metadata": {},
     "output_type": "execute_result"
    }
   ],
   "source": [
    "path"
   ]
  },
  {
   "cell_type": "code",
   "execution_count": null,
   "metadata": {},
   "outputs": [],
   "source": [
    "p.step(1, 100, 2e-2)"
   ]
  },
  {
   "cell_type": "code",
   "execution_count": null,
   "metadata": {},
   "outputs": [],
   "source": []
  }
 ],
 "metadata": {
  "kernelspec": {
   "display_name": "linjun",
   "language": "python",
   "name": "linjun"
  },
  "language_info": {
   "codemirror_mode": {
    "name": "ipython",
    "version": 3
   },
   "file_extension": ".py",
   "mimetype": "text/x-python",
   "name": "python",
   "nbconvert_exporter": "python",
   "pygments_lexer": "ipython3",
   "version": "3.8.2"
  }
 },
 "nbformat": 4,
 "nbformat_minor": 4
}
